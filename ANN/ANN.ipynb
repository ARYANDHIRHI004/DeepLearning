{
 "cells": [
  {
   "cell_type": "code",
   "execution_count": 1,
   "metadata": {
    "executionInfo": {
     "elapsed": 775,
     "status": "ok",
     "timestamp": 1743651990278,
     "user": {
      "displayName": "Aryan Dhirhi",
      "userId": "07112493514269233811"
     },
     "user_tz": -330
    },
    "id": "IVkjDD1owBGw"
   },
   "outputs": [],
   "source": [
    "import pandas as pd\n",
    "import numpy as np\n",
    "import matplotlib.pyplot as plt"
   ]
  },
  {
   "cell_type": "code",
   "execution_count": 2,
   "metadata": {
    "executionInfo": {
     "elapsed": 565,
     "status": "ok",
     "timestamp": 1743653338895,
     "user": {
      "displayName": "Aryan Dhirhi",
      "userId": "07112493514269233811"
     },
     "user_tz": -330
    },
    "id": "4EJ6Muq-weNu"
   },
   "outputs": [],
   "source": [
    "class Perceptron:\n",
    "  def __init__(self, eta, epochs):\n",
    "    self.weights = np.random.rand(3) * 1e-4\n",
    "    print(f\"self.weights: {self.weights}\")\n",
    "    self.eta = eta\n",
    "    self.epochs = epochs\n",
    "\n",
    "  def activationFucntion(self, inputs, weights):\n",
    "    z = np.dot(inputs, weights)\n",
    "    return np.where(z>0, 1,0)\n",
    "\n",
    "  def fit(self, X,y):\n",
    "    self.X = X\n",
    "    self.y = y\n",
    "\n",
    "    X_with_bias = np.c_[self.X, -np.ones((len(self.X), 1))]\n",
    "    print(f\"X_with_bias: {X_with_bias}\")\n",
    "\n",
    "    for epoch in range(self.epochs):\n",
    "      print(f\"for epoch: {epoch}\")\n",
    "      y_hat = self.activationFucntion(X_with_bias, self.weights)\n",
    "      print(f\"predicted value: {y_hat}\")\n",
    "      error = self.y - y_hat\n",
    "      print(f\"errot: {error}\")\n",
    "      self.weights = self.weights + self.eta * np.dot(X_with_bias.T, error)\n",
    "      print(f\"updated weights: {self.weights}\")\n",
    "\n",
    "  def predict(self, X):\n",
    "    X_with_bias = np.c_[X, -np.ones((len(self.X), 1))]\n",
    "    return self.activationFucntion(X_with_bias, self.weights)\n",
    "\n",
    "\n",
    "\n"
   ]
  },
  {
   "cell_type": "code",
   "execution_count": 3,
   "metadata": {
    "colab": {
     "base_uri": "https://localhost:8080/",
     "height": 175
    },
    "executionInfo": {
     "elapsed": 7,
     "status": "ok",
     "timestamp": 1743653339654,
     "user": {
      "displayName": "Aryan Dhirhi",
      "userId": "07112493514269233811"
     },
     "user_tz": -330
    },
    "id": "CjJd4o70zwIW",
    "outputId": "ff16d02f-847f-4ff4-f9e1-f21b0d287aaa"
   },
   "outputs": [
    {
     "data": {
      "text/html": [
       "<div>\n",
       "<style scoped>\n",
       "    .dataframe tbody tr th:only-of-type {\n",
       "        vertical-align: middle;\n",
       "    }\n",
       "\n",
       "    .dataframe tbody tr th {\n",
       "        vertical-align: top;\n",
       "    }\n",
       "\n",
       "    .dataframe thead th {\n",
       "        text-align: right;\n",
       "    }\n",
       "</style>\n",
       "<table border=\"1\" class=\"dataframe\">\n",
       "  <thead>\n",
       "    <tr style=\"text-align: right;\">\n",
       "      <th></th>\n",
       "      <th>x1</th>\n",
       "      <th>x2</th>\n",
       "      <th>y</th>\n",
       "    </tr>\n",
       "  </thead>\n",
       "  <tbody>\n",
       "    <tr>\n",
       "      <th>0</th>\n",
       "      <td>0</td>\n",
       "      <td>0</td>\n",
       "      <td>0</td>\n",
       "    </tr>\n",
       "    <tr>\n",
       "      <th>1</th>\n",
       "      <td>0</td>\n",
       "      <td>1</td>\n",
       "      <td>0</td>\n",
       "    </tr>\n",
       "    <tr>\n",
       "      <th>2</th>\n",
       "      <td>1</td>\n",
       "      <td>0</td>\n",
       "      <td>0</td>\n",
       "    </tr>\n",
       "    <tr>\n",
       "      <th>3</th>\n",
       "      <td>1</td>\n",
       "      <td>1</td>\n",
       "      <td>1</td>\n",
       "    </tr>\n",
       "  </tbody>\n",
       "</table>\n",
       "</div>"
      ],
      "text/plain": [
       "   x1  x2  y\n",
       "0   0   0  0\n",
       "1   0   1  0\n",
       "2   1   0  0\n",
       "3   1   1  1"
      ]
     },
     "execution_count": 3,
     "metadata": {},
     "output_type": "execute_result"
    }
   ],
   "source": [
    "data = {\"x1\": [0,0,1,1], \"x2\": [0,1,0,1], \"y\": [0,0,0,1]}\n",
    "\n",
    "AND = pd.DataFrame(data)\n",
    "AND"
   ]
  },
  {
   "cell_type": "code",
   "execution_count": 4,
   "metadata": {
    "colab": {
     "base_uri": "https://localhost:8080/",
     "height": 175
    },
    "executionInfo": {
     "elapsed": 8,
     "status": "ok",
     "timestamp": 1743653341135,
     "user": {
      "displayName": "Aryan Dhirhi",
      "userId": "07112493514269233811"
     },
     "user_tz": -330
    },
    "id": "6_t7bh5W0nQ1",
    "outputId": "332f53c9-6a03-4b1f-ecb5-99d89fb23cd5"
   },
   "outputs": [
    {
     "data": {
      "text/html": [
       "<div>\n",
       "<style scoped>\n",
       "    .dataframe tbody tr th:only-of-type {\n",
       "        vertical-align: middle;\n",
       "    }\n",
       "\n",
       "    .dataframe tbody tr th {\n",
       "        vertical-align: top;\n",
       "    }\n",
       "\n",
       "    .dataframe thead th {\n",
       "        text-align: right;\n",
       "    }\n",
       "</style>\n",
       "<table border=\"1\" class=\"dataframe\">\n",
       "  <thead>\n",
       "    <tr style=\"text-align: right;\">\n",
       "      <th></th>\n",
       "      <th>x1</th>\n",
       "      <th>x2</th>\n",
       "    </tr>\n",
       "  </thead>\n",
       "  <tbody>\n",
       "    <tr>\n",
       "      <th>0</th>\n",
       "      <td>0</td>\n",
       "      <td>0</td>\n",
       "    </tr>\n",
       "    <tr>\n",
       "      <th>1</th>\n",
       "      <td>0</td>\n",
       "      <td>1</td>\n",
       "    </tr>\n",
       "    <tr>\n",
       "      <th>2</th>\n",
       "      <td>1</td>\n",
       "      <td>0</td>\n",
       "    </tr>\n",
       "    <tr>\n",
       "      <th>3</th>\n",
       "      <td>1</td>\n",
       "      <td>1</td>\n",
       "    </tr>\n",
       "  </tbody>\n",
       "</table>\n",
       "</div>"
      ],
      "text/plain": [
       "   x1  x2\n",
       "0   0   0\n",
       "1   0   1\n",
       "2   1   0\n",
       "3   1   1"
      ]
     },
     "execution_count": 4,
     "metadata": {},
     "output_type": "execute_result"
    }
   ],
   "source": [
    "X =AND.drop('y', axis=1)\n",
    "X"
   ]
  },
  {
   "cell_type": "code",
   "execution_count": 5,
   "metadata": {
    "colab": {
     "base_uri": "https://localhost:8080/",
     "height": 210
    },
    "executionInfo": {
     "elapsed": 7,
     "status": "ok",
     "timestamp": 1743653342287,
     "user": {
      "displayName": "Aryan Dhirhi",
      "userId": "07112493514269233811"
     },
     "user_tz": -330
    },
    "id": "Rc1187Jj0wlb",
    "outputId": "33f5475a-3255-4d1f-a704-fc0db628b125"
   },
   "outputs": [
    {
     "data": {
      "text/plain": [
       "0    0\n",
       "1    0\n",
       "2    0\n",
       "3    1\n",
       "Name: y, dtype: int64"
      ]
     },
     "execution_count": 5,
     "metadata": {},
     "output_type": "execute_result"
    }
   ],
   "source": [
    "y = AND.y\n",
    "y"
   ]
  },
  {
   "cell_type": "code",
   "execution_count": 6,
   "metadata": {
    "colab": {
     "base_uri": "https://localhost:8080/"
    },
    "executionInfo": {
     "elapsed": 4,
     "status": "ok",
     "timestamp": 1743653343133,
     "user": {
      "displayName": "Aryan Dhirhi",
      "userId": "07112493514269233811"
     },
     "user_tz": -330
    },
    "id": "ovfC_Zbt01YC",
    "outputId": "d7447ff3-76a1-46aa-a2de-54b9b9c4cf8f"
   },
   "outputs": [
    {
     "name": "stdout",
     "output_type": "stream",
     "text": [
      "self.weights: [9.09209652e-05 9.64590247e-05 9.30584144e-05]\n",
      "X_with_bias: [[ 0.  0. -1.]\n",
      " [ 0.  1. -1.]\n",
      " [ 1.  0. -1.]\n",
      " [ 1.  1. -1.]]\n",
      "for epoch: 0\n",
      "predicted value: [0 1 0 1]\n",
      "errot: 0    0\n",
      "1   -1\n",
      "2    0\n",
      "3    0\n",
      "Name: y, dtype: int64\n",
      "updated weights: [ 9.09209652e-05 -4.99903541e-01  5.00093058e-01]\n",
      "for epoch: 1\n",
      "predicted value: [0 0 0 0]\n",
      "errot: 0    0\n",
      "1    0\n",
      "2    0\n",
      "3    1\n",
      "Name: y, dtype: int64\n",
      "updated weights: [5.00090921e-01 9.64590247e-05 9.30584144e-05]\n",
      "for epoch: 2\n",
      "predicted value: [0 1 1 1]\n",
      "errot: 0    0\n",
      "1   -1\n",
      "2   -1\n",
      "3    0\n",
      "Name: y, dtype: int64\n",
      "updated weights: [ 9.09209652e-05 -4.99903541e-01  1.00009306e+00]\n",
      "for epoch: 3\n",
      "predicted value: [0 0 0 0]\n",
      "errot: 0    0\n",
      "1    0\n",
      "2    0\n",
      "3    1\n",
      "Name: y, dtype: int64\n",
      "updated weights: [5.00090921e-01 9.64590247e-05 5.00093058e-01]\n",
      "for epoch: 4\n",
      "predicted value: [0 0 0 1]\n",
      "errot: 0    0\n",
      "1    0\n",
      "2    0\n",
      "3    0\n",
      "Name: y, dtype: int64\n",
      "updated weights: [5.00090921e-01 9.64590247e-05 5.00093058e-01]\n",
      "for epoch: 5\n",
      "predicted value: [0 0 0 1]\n",
      "errot: 0    0\n",
      "1    0\n",
      "2    0\n",
      "3    0\n",
      "Name: y, dtype: int64\n",
      "updated weights: [5.00090921e-01 9.64590247e-05 5.00093058e-01]\n",
      "for epoch: 6\n",
      "predicted value: [0 0 0 1]\n",
      "errot: 0    0\n",
      "1    0\n",
      "2    0\n",
      "3    0\n",
      "Name: y, dtype: int64\n",
      "updated weights: [5.00090921e-01 9.64590247e-05 5.00093058e-01]\n",
      "for epoch: 7\n",
      "predicted value: [0 0 0 1]\n",
      "errot: 0    0\n",
      "1    0\n",
      "2    0\n",
      "3    0\n",
      "Name: y, dtype: int64\n",
      "updated weights: [5.00090921e-01 9.64590247e-05 5.00093058e-01]\n",
      "for epoch: 8\n",
      "predicted value: [0 0 0 1]\n",
      "errot: 0    0\n",
      "1    0\n",
      "2    0\n",
      "3    0\n",
      "Name: y, dtype: int64\n",
      "updated weights: [5.00090921e-01 9.64590247e-05 5.00093058e-01]\n",
      "for epoch: 9\n",
      "predicted value: [0 0 0 1]\n",
      "errot: 0    0\n",
      "1    0\n",
      "2    0\n",
      "3    0\n",
      "Name: y, dtype: int64\n",
      "updated weights: [5.00090921e-01 9.64590247e-05 5.00093058e-01]\n"
     ]
    }
   ],
   "source": [
    "model = Perceptron(0.5, 10)\n",
    "model.fit(X,y)"
   ]
  },
  {
   "cell_type": "code",
   "execution_count": 7,
   "metadata": {
    "id": "dzaDAi9o1E0j"
   },
   "outputs": [
    {
     "data": {
      "text/plain": [
       "array([0, 0, 0, 1])"
      ]
     },
     "execution_count": 7,
     "metadata": {},
     "output_type": "execute_result"
    }
   ],
   "source": [
    "model.predict(X)"
   ]
  },
  {
   "cell_type": "code",
   "execution_count": null,
   "metadata": {
    "id": "b7vEiIl710qc"
   },
   "outputs": [],
   "source": []
  },
  {
   "cell_type": "code",
   "execution_count": null,
   "metadata": {},
   "outputs": [],
   "source": []
  },
  {
   "cell_type": "code",
   "execution_count": null,
   "metadata": {},
   "outputs": [],
   "source": []
  },
  {
   "cell_type": "code",
   "execution_count": null,
   "metadata": {},
   "outputs": [],
   "source": []
  }
 ],
 "metadata": {
  "accelerator": "GPU",
  "colab": {
   "authorship_tag": "ABX9TyMD0xj6/fD/rvFiN0BZ7/T4",
   "gpuType": "T4",
   "provenance": []
  },
  "kernelspec": {
   "display_name": "base",
   "language": "python",
   "name": "python3"
  },
  "language_info": {
   "codemirror_mode": {
    "name": "ipython",
    "version": 3
   },
   "file_extension": ".py",
   "mimetype": "text/x-python",
   "name": "python",
   "nbconvert_exporter": "python",
   "pygments_lexer": "ipython3",
   "version": "3.12.4"
  }
 },
 "nbformat": 4,
 "nbformat_minor": 0
}
